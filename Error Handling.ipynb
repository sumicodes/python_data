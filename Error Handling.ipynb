{
 "cells": [
  {
   "cell_type": "markdown",
   "metadata": {},
   "source": [
    "## Try-Catch-Finally"
   ]
  },
  {
   "cell_type": "markdown",
   "metadata": {},
   "source": [
    "- The Try statement marks a block of code to attempt, but in which we anticipate an error might arise.\n",
    "- The Catch statement names the errors to anticipate, and marks a block of code to run if an anticipated error arises. (Python often refers to this as the Except block as well.)\n",
    "- The Finally statement marks a block of code to run after the above two blocks no matter what."
   ]
  },
  {
   "cell_type": "markdown",
   "metadata": {},
   "source": [
    "## The Try Statement"
   ]
  },
  {
   "cell_type": "code",
   "execution_count": 4,
   "metadata": {},
   "outputs": [
    {
     "name": "stdout",
     "output_type": "stream",
     "text": [
      "Converting myString to int...\n",
      "Done!\n"
     ]
    }
   ],
   "source": [
    "myString=\"This string is not a number!\"\n",
    "#Run the code below until an error occurs\n",
    "try:\n",
    "    print(\"Converting myString to int...\")\n",
    "    myInt=int(myString)\n",
    "    print(myInt)\n",
    "    \n",
    "#If an error occurs, jump to here\n",
    "except:\n",
    "        pass\n",
    "print(\"Done!\")"
   ]
  },
  {
   "cell_type": "markdown",
   "metadata": {},
   "source": [
    "## Catching Multiple Specific Errors"
   ]
  },
  {
   "cell_type": "code",
   "execution_count": 5,
   "metadata": {},
   "outputs": [
    {
     "name": "stdout",
     "output_type": "stream",
     "text": [
      "Converting myString to int...\n",
      "A ValueError or TypeError occurred.\n",
      "Done!\n"
     ]
    }
   ],
   "source": [
    "myString= \"This string is not a number!\"\n",
    "#Run the Code below until an error occurs\n",
    "try:\n",
    "    print(\"Converting myString to int...\")\n",
    "    print(\"String #\"+1+\":\"+myString)\n",
    "    myInt=int(myString)\n",
    "    print(myInt)\n",
    "    print(1/0)\n",
    "#If an error occurs, check if it's a ValueError or\n",
    "#TypeError\n",
    "except (ValueError, TypeError) as error:\n",
    "    print(\"A ValueError or TypeError occurred.\")\n",
    "#Check if some other type of error occurred\n",
    "except Exception as error:\n",
    "    print(\"Some other type of error occurred.\")\n",
    "print(\"Done!\")"
   ]
  },
  {
   "cell_type": "markdown",
   "metadata": {},
   "source": [
    "## Else for Error Handling"
   ]
  },
  {
   "cell_type": "code",
   "execution_count": 8,
   "metadata": {},
   "outputs": [
    {
     "name": "stdout",
     "output_type": "stream",
     "text": [
      "Converting myString to int...\n",
      "A ValueError or TypeError occurred.\n",
      "Done!\n"
     ]
    }
   ],
   "source": [
    "myString=\"1\"\n",
    "#Run the code below until an error occurs\n",
    "try:\n",
    "    print(\"Converting myString to int...\")\n",
    "    print(\"String #\"+1+\":\"+myString)\n",
    "    myInt=int(myString)\n",
    "    print(myInt)\n",
    "    print(1/0)\n",
    "#If an error occurs, check if it's a ValueError or\n",
    "#TypeError\n",
    "except (ValueError, TypeError) as error:\n",
    "    print(\"A ValueError or TypeError occurred.\")\n",
    "#Check if some other type of error occurred\n",
    "except Exception as error:\n",
    "    print(\"Some other type of error occurred.\")\n",
    "#If no errors occurred, then do the following\n",
    "else:\n",
    "    print(\"No errors occurred!\")\n",
    "print(\"Done!\")"
   ]
  },
  {
   "cell_type": "markdown",
   "metadata": {},
   "source": [
    "## Finally"
   ]
  },
  {
   "cell_type": "markdown",
   "metadata": {},
   "source": [
    "Finally block is for code that needs to run regardless of whether an error was detected or not"
   ]
  },
  {
   "cell_type": "code",
   "execution_count": null,
   "metadata": {},
   "outputs": [],
   "source": []
  }
 ],
 "metadata": {
  "kernelspec": {
   "display_name": "Python 3",
   "language": "python",
   "name": "python3"
  },
  "language_info": {
   "codemirror_mode": {
    "name": "ipython",
    "version": 3
   },
   "file_extension": ".py",
   "mimetype": "text/x-python",
   "name": "python",
   "nbconvert_exporter": "python",
   "pygments_lexer": "ipython3",
   "version": "3.6.5"
  }
 },
 "nbformat": 4,
 "nbformat_minor": 2
}
