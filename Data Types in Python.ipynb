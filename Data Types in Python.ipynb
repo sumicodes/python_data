{
 "cells": [
  {
   "cell_type": "markdown",
   "metadata": {},
   "source": [
    "# Data Types in Python"
   ]
  },
  {
   "cell_type": "code",
   "execution_count": 2,
   "metadata": {},
   "outputs": [
    {
     "name": "stdout",
     "output_type": "stream",
     "text": [
      "<class 'int'>\n",
      "<class 'float'>\n",
      "<class 'str'>\n",
      "<class 'bool'>\n"
     ]
    }
   ],
   "source": [
    "myInteger = 5\n",
    "print(type(myInteger))\n",
    "#Adding the .0 forces this to become a float\n",
    "myFloat = 5.0\n",
    "print(type(myFloat))\n",
    "#Putting it in quotes makes it a string\n",
    "myString = \"5.0\"\n",
    "print(type(myString))\n",
    "#The words 'True' and 'False' are reserved\n",
    "#for boolean values\n",
    "myBoolean = True\t\n",
    "print(type(myBoolean))\n"
   ]
  },
  {
   "cell_type": "markdown",
   "metadata": {},
   "source": [
    "# Converting Integer to String"
   ]
  },
  {
   "cell_type": "code",
   "execution_count": 4,
   "metadata": {},
   "outputs": [
    {
     "name": "stdout",
     "output_type": "stream",
     "text": [
      "<class 'int'>\n",
      "<class 'str'>\n"
     ]
    }
   ],
   "source": [
    "myNumber=5\n",
    "print(type(myNumber))\n",
    "myNumberAsString=str(myNumber)\n",
    "print(type(myNumberAsString))"
   ]
  },
  {
   "cell_type": "markdown",
   "metadata": {},
   "source": [
    "\n",
    "# Date"
   ]
  },
  {
   "cell_type": "code",
   "execution_count": 9,
   "metadata": {},
   "outputs": [
    {
     "name": "stdout",
     "output_type": "stream",
     "text": [
      "2018\n",
      "8\n",
      "28\n"
     ]
    }
   ],
   "source": [
    "from datetime import date\n",
    "mydate=date.today()\n",
    "print(mydate.year)\n",
    "print(mydate.month)\n",
    "print(mydate.day)"
   ]
  },
  {
   "cell_type": "markdown",
   "metadata": {},
   "source": [
    "## Coding Exercise #1"
   ]
  },
  {
   "cell_type": "code",
   "execution_count": 10,
   "metadata": {},
   "outputs": [
    {
     "name": "stdout",
     "output_type": "stream",
     "text": [
      "2018\n",
      "8\n",
      "28\n",
      "2018/8/28\n",
      "20\n",
      "50\n",
      "12\n",
      "20:50:12\n"
     ]
    }
   ],
   "source": [
    "#Complete the code below. We've gone ahead and created\n",
    "#variables for the current date and current time. Now,\n",
    "#we want to print date with the format year/month/day,\n",
    "#and the time with the format hour:minute:second.\n",
    "#\n",
    "#This is a tough one! Think about what we've learned\n",
    "#about converting and putting together strings.\n",
    "#Remember, we can add two strings together. For\n",
    "#example: \"5\" + \"1\" = \"51\".\n",
    "\n",
    "from datetime import date\n",
    "import datetime\n",
    "todays_date = date.today()\n",
    "current_time = datetime.datetime.now()\n",
    "\n",
    "#Don't modify the code above!\n",
    "\n",
    "#Complete the line below to print today's date with the\n",
    "#form year/month/date. For example, January 15th, 2017\n",
    "#would be 2016/1/15.\n",
    "print(todays_date.year)\n",
    "print(todays_date.month)\n",
    "print(todays_date.day)\n",
    "\n",
    "YearAsString=str(todays_date.year)\n",
    "MonthAsString=str(todays_date.month)\n",
    "DayAsString=str(todays_date.day)\n",
    "               \n",
    "print(YearAsString+\"/\"+MonthAsString+\"/\"+DayAsString)\n",
    "\n",
    "#Complete the line below to print the current time with\n",
    "#the form hour:minute:second, such as 12:57:15. Don't worry\n",
    "#about the leading 0s for single-digit times. If it's\n",
    "#1:05PM and 7 seconds, the correct answer would be:\n",
    "#13:5:7 (13 because Python uses 24-hour timeby default).\n",
    "print(current_time.hour)\n",
    "print(current_time.minute)\n",
    "print(current_time.second)\n",
    "\n",
    "HourAsString=str(current_time.hour)\n",
    "MinuteAsString=str(current_time.minute)\n",
    "SecondAsString=str(current_time.second)\n",
    "\n",
    "print(HourAsString+\":\"+MinuteAsString+\":\"+SecondAsString)\n"
   ]
  },
  {
   "cell_type": "markdown",
   "metadata": {},
   "source": [
    "# Coding Exercise 2"
   ]
  },
  {
   "cell_type": "code",
   "execution_count": 14,
   "metadata": {},
   "outputs": [
    {
     "name": "stdout",
     "output_type": "stream",
     "text": [
      "<class 'int'>\n",
      "<class 'float'>\n",
      "<class 'str'>\n",
      "<class 'bool'>\n"
     ]
    }
   ],
   "source": [
    "#Create four variables name my_integer, my_decimal,\n",
    "#my_string, and my_boolean. Assign to each variable a\n",
    "#value of the corresponding type (an integer for\n",
    "#my_integer, a string of characters for my_string,\n",
    "#etc.). You can choose whatever values you want --\n",
    "#just make sure the variable names and types are\n",
    "#correct!\n",
    "#\n",
    "#Then, print the types of each of the four variables\n",
    "#in order: first the integer, then the decimal\n",
    "#number, then the string, then the boolean. This\n",
    "#should print text like <class 'int'>, <class\n",
    "#'float'>, and so on.\n",
    "#\n",
    "#Don't print anything except their types!\n",
    "\n",
    "\n",
    "#Create your variables here!\n",
    "my_integer=5\n",
    "my_decimal=5.1\n",
    "my_string=\"Moo\"\n",
    "my_boolean=True\n",
    "\n",
    "#Print their types here!\n",
    "print(type(my_integer))\n",
    "print(type(my_decimal))\n",
    "print(type(my_string))\n",
    "print(type(my_boolean))\n",
    "\n",
    "\n",
    "\n"
   ]
  },
  {
   "cell_type": "code",
   "execution_count": 3,
   "metadata": {},
   "outputs": [
    {
     "name": "stdout",
     "output_type": "stream",
     "text": [
      "Hello Jacky!\n"
     ]
    }
   ],
   "source": [
    "print(\"Hello Jacky!\")"
   ]
  },
  {
   "cell_type": "code",
   "execution_count": null,
   "metadata": {
    "collapsed": true
   },
   "outputs": [],
   "source": []
  },
  {
   "cell_type": "code",
   "execution_count": null,
   "metadata": {
    "collapsed": true
   },
   "outputs": [],
   "source": []
  }
 ],
 "metadata": {
  "kernelspec": {
   "display_name": "Python 3",
   "language": "python",
   "name": "python3"
  },
  "language_info": {
   "codemirror_mode": {
    "name": "ipython",
    "version": 3
   },
   "file_extension": ".py",
   "mimetype": "text/x-python",
   "name": "python",
   "nbconvert_exporter": "python",
   "pygments_lexer": "ipython3",
   "version": "3.6.1"
  }
 },
 "nbformat": 4,
 "nbformat_minor": 2
}
