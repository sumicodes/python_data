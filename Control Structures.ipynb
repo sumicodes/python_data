{
 "cells": [
  {
   "cell_type": "markdown",
   "metadata": {},
   "source": [
    "# Loops"
   ]
  },
  {
   "cell_type": "markdown",
   "metadata": {},
   "source": [
    "A programming control structure that executes a segment of code multiple times"
   ]
  },
  {
   "cell_type": "markdown",
   "metadata": {},
   "source": [
    "## For Loop\n",
    "\n",
    "Repeats some code a specific number of times"
   ]
  },
  {
   "cell_type": "markdown",
   "metadata": {},
   "source": [
    "## While Loop\n",
    "Runs a block of code until a certain logical expression is satisfied\n",
    "\n",
    "ex. while the screw is still loose, keep screwing it in. while there are still emaisl in your inbox, read the next one"
   ]
  },
  {
   "cell_type": "markdown",
   "metadata": {},
   "source": [
    "## For Loops with Known Ranges"
   ]
  },
  {
   "cell_type": "code",
   "execution_count": 2,
   "metadata": {},
   "outputs": [
    {
     "name": "stdout",
     "output_type": "stream",
     "text": [
      "1\n",
      "2\n",
      "3\n",
      "4\n",
      "5\n",
      "6\n",
      "7\n",
      "8\n",
      "9\n",
      "10\n"
     ]
    }
   ],
   "source": [
    "## Loop this for the numbers 1 through 10\n",
    "for i in range(1,11):\n",
    "    #Print the current number\n",
    "    print(i)"
   ]
  },
  {
   "cell_type": "markdown",
   "metadata": {},
   "source": [
    "The idented portion below the \"for\" statement"
   ]
  },
  {
   "cell_type": "code",
   "execution_count": 3,
   "metadata": {},
   "outputs": [
    {
     "name": "stdout",
     "output_type": "stream",
     "text": [
      "Before Addtition: 1\n",
      "After Addition: 2\n",
      "Before Addtition: 2\n",
      "After Addition: 3\n",
      "Before Addtition: 3\n",
      "After Addition: 4\n",
      "Before Addtition: 4\n",
      "After Addition: 5\n",
      "Before Addtition: 5\n",
      "After Addition: 6\n",
      "Before Addtition: 6\n",
      "After Addition: 7\n",
      "Before Addtition: 7\n",
      "After Addition: 8\n",
      "Before Addtition: 8\n",
      "After Addition: 9\n",
      "Before Addtition: 9\n",
      "After Addition: 10\n",
      "Before Addtition: 10\n",
      "After Addition: 11\n"
     ]
    }
   ],
   "source": [
    "for i in range(1,11):\n",
    "    print(\"Before Addtition:\",i)\n",
    "    i+=1\n",
    "    print(\"After Addition:\",i)"
   ]
  },
  {
   "cell_type": "markdown",
   "metadata": {},
   "source": [
    "## For Loops with Unknown Ranges"
   ]
  },
  {
   "cell_type": "code",
   "execution_count": 4,
   "metadata": {},
   "outputs": [
    {
     "name": "stdout",
     "output_type": "stream",
     "text": [
      "Enter number #1:5\n",
      "0.5\n",
      "Enter number #2:6\n",
      "1.1\n",
      "Enter number #3:8\n",
      "1.9\n",
      "Enter number #4:9\n",
      "2.8\n",
      "Enter number #5:10\n",
      "3.8\n",
      "Enter number #6:56\n",
      "9.4\n",
      "Enter number #7:56\n",
      "15.0\n",
      "Enter number #8:56\n",
      "20.6\n",
      "Enter number #9:56\n",
      "26.2\n",
      "Enter number #10:56\n",
      "31.8\n"
     ]
    }
   ],
   "source": [
    "#Creates sum with the value 0\n",
    "sum=0\n",
    "#Loop 10 times\n",
    "for i in range(1,11):\n",
    "    #Gets the user's number\n",
    "    #nextnumber=int(input(\"Enter number #\"+str(i)+\":\"))\n",
    "    #Add the inputted number to the sum\n",
    "    #the below is same as sum=sum+nextNumber\n",
    "    #sum+= nextnumber\n",
    "    #print the sum over 10\n",
    "    print(sum/10)"
   ]
  },
  {
   "cell_type": "markdown",
   "metadata": {},
   "source": [
    "## For-Each and Lists "
   ]
  },
  {
   "cell_type": "code",
   "execution_count": 6,
   "metadata": {},
   "outputs": [
    {
     "name": "stdout",
     "output_type": "stream",
     "text": [
      "95.5\n"
     ]
    }
   ],
   "source": [
    "listofnumbers=[91,92,93,94,95,96,97,98,99,100]\n",
    "sum=0\n",
    "\n",
    "#Runs this loop once for each item, assigning the current item to the variable 'currentnumber'\n",
    "for currentnumber in listofnumbers:\n",
    "    sum+=currentnumber\n",
    "    \n",
    "print(sum/len(listofnumbers))"
   ]
  },
  {
   "cell_type": "markdown",
   "metadata": {},
   "source": [
    "## For-Each and Other Types"
   ]
  },
  {
   "cell_type": "code",
   "execution_count": null,
   "metadata": {},
   "outputs": [],
   "source": [
    "myString=\"There are seven words in this string.\"\n",
    "numSpaces=0\n",
    "\n",
    "for currentCharacter in myString:\n",
    "    if currentCharacter==\" \":\n",
    "        numSpaces +=1\n",
    "        \n",
    "print(\"There are \"+ str(numSpaces + 1) + \" words in the String.\")"
   ]
  },
  {
   "cell_type": "markdown",
   "metadata": {},
   "source": [
    "## While Loops and Number Guessing"
   ]
  },
  {
   "cell_type": "code",
   "execution_count": null,
   "metadata": {},
   "outputs": [],
   "source": [
    "import random\n",
    "#Get a random number from 1 to 10\n",
    "hiddenNumber=random.randint(1,10)\n",
    "#Create userGuess and give it a value that can't be correct\n",
    "userGuess=0\n",
    "#Repeat until the guess is correct\n",
    "while not userGuess==hiddenNumber:\n",
    "    #Get the user's next guess as an integer\n",
    "    userGuess=int(input(\"Guess a number:\"))\n",
    "    #Check if the guess is too high\n",
    "    if userGuess>hiddenNumber:\n",
    "        print(\"Too high!\")\n",
    "        ##check if the guess is too low\n",
    "        elif userGuess<hiddenNumber:\n",
    "            print(\"Too low!\")\n",
    "            #The guess must be right!\n",
    "             else:\n",
    "            print(\"That's right!\")"
   ]
  },
  {
   "cell_type": "markdown",
   "metadata": {},
   "source": [
    "\n",
    "\n",
    "\n"
   ]
  },
  {
   "cell_type": "code",
   "execution_count": 14,
   "metadata": {},
   "outputs": [
    {
     "name": "stdout",
     "output_type": "stream",
     "text": [
      "0\n",
      "1\n",
      "2\n"
     ]
    }
   ],
   "source": [
    "for x in range(3):\n",
    "    print(x)"
   ]
  },
  {
   "cell_type": "code",
   "execution_count": 24,
   "metadata": {},
   "outputs": [
    {
     "name": "stdout",
     "output_type": "stream",
     "text": [
      "-------\n",
      " \n",
      "This is x: 0\n",
      "  \n",
      "*** this is y: 0\n",
      "*** this is y: 1\n",
      "*** this is y: 2\n",
      "*** this is y: 3\n",
      "-------\n",
      " \n",
      "This is x: 1\n",
      "  \n",
      "*** this is y: 0\n",
      "*** this is y: 1\n",
      "*** this is y: 2\n",
      "*** this is y: 3\n",
      "-------\n",
      " \n",
      "This is x: 2\n",
      "  \n",
      "*** this is y: 0\n",
      "*** this is y: 1\n",
      "*** this is y: 2\n",
      "*** this is y: 3\n"
     ]
    }
   ],
   "source": [
    "for x in range(3):\n",
    "    print(\"-------\")\n",
    "    print(\" \")\n",
    "    print(\"This is x:\", x)\n",
    "    print(\"  \")\n",
    "    for y in range(4):\n",
    "        print(\"*** this is y:\", y)\n",
    "       "
   ]
  },
  {
   "cell_type": "code",
   "execution_count": 26,
   "metadata": {},
   "outputs": [
    {
     "name": "stdout",
     "output_type": "stream",
     "text": [
      "count =  0\n",
      "  \n",
      "this is x: 0\n",
      "*** y =  0\n",
      "*** part 1: count =  0\n",
      "*** part 2: count =  0\n",
      "--------------\n",
      "*** y =  1\n",
      "*** part 1: count =  0\n",
      "*** part 2: count =  1\n",
      "--------------\n",
      "*** y =  2\n",
      "*** part 1: count =  1\n",
      "*** part 2: count =  3\n",
      "--------------\n",
      "  \n",
      "this is x: 1\n",
      "*** y =  0\n",
      "*** part 1: count =  3\n",
      "*** part 2: count =  3\n",
      "--------------\n",
      "*** y =  1\n",
      "*** part 1: count =  3\n",
      "*** part 2: count =  4\n",
      "--------------\n",
      "*** y =  2\n",
      "*** part 1: count =  4\n",
      "*** part 2: count =  6\n",
      "--------------\n",
      "  \n",
      "this is x: 2\n",
      "*** y =  0\n",
      "*** part 1: count =  6\n",
      "*** part 2: count =  6\n",
      "--------------\n",
      "*** y =  1\n",
      "*** part 1: count =  6\n",
      "*** part 2: count =  7\n",
      "--------------\n",
      "*** y =  2\n",
      "*** part 1: count =  7\n",
      "*** part 2: count =  9\n",
      "--------------\n"
     ]
    }
   ],
   "source": [
    "count = 0\n",
    "\n",
    "print(\"count = \", count)\n",
    "\n",
    "for x in range(3):\n",
    "    print(\"  \")\n",
    "    print(\"this is x:\", x)\n",
    "    for y in range(3):\n",
    "        print(\"*** y = \", y)\n",
    "        print(\"*** part 1: count = \", count)\n",
    "        count = count + y\n",
    "        print(\"*** part 2: count = \", count)\n",
    "        print(\"--------------\")"
   ]
  },
  {
   "cell_type": "code",
   "execution_count": 27,
   "metadata": {},
   "outputs": [
    {
     "name": "stdout",
     "output_type": "stream",
     "text": [
      "-------\n",
      " \n",
      "This is x: 0\n",
      "  \n",
      "*** this is y: 0\n",
      "*** this is y: 1\n",
      "*** this is y: 2\n",
      "-------\n",
      " \n",
      "This is x: 1\n",
      "  \n",
      "*** this is y: 0\n",
      "*** this is y: 1\n",
      "*** this is y: 2\n",
      "-------\n",
      " \n",
      "This is x: 2\n",
      "  \n",
      "*** this is y: 0\n",
      "*** this is y: 1\n",
      "*** this is y: 2\n"
     ]
    }
   ],
   "source": [
    "for x in range(3):\n",
    "    print(\"-------\")\n",
    "    print(\" \")\n",
    "    print(\"This is x:\", x)\n",
    "    print(\"  \")\n",
    "    for y in range(3):\n",
    "        print(\"*** this is y:\", y)\n",
    "       "
   ]
  },
  {
   "cell_type": "code",
   "execution_count": 28,
   "metadata": {},
   "outputs": [
    {
     "name": "stdout",
     "output_type": "stream",
     "text": [
      "count =  0\n",
      "  \n",
      "this is x: 0\n",
      "*** y =  0\n",
      "*** part 1: count =  0\n",
      "*** part 2: count =  0\n",
      "--------------\n",
      "*** y =  1\n",
      "*** part 1: count =  0\n",
      "*** part 2: count =  0\n",
      "--------------\n",
      "*** y =  2\n",
      "*** part 1: count =  0\n",
      "*** part 2: count =  0\n",
      "--------------\n",
      "  \n",
      "this is x: 1\n",
      "*** y =  0\n",
      "*** part 1: count =  0\n",
      "*** part 2: count =  1\n",
      "--------------\n",
      "*** y =  1\n",
      "*** part 1: count =  1\n",
      "*** part 2: count =  2\n",
      "--------------\n",
      "*** y =  2\n",
      "*** part 1: count =  2\n",
      "*** part 2: count =  3\n",
      "--------------\n",
      "  \n",
      "this is x: 2\n",
      "*** y =  0\n",
      "*** part 1: count =  3\n",
      "*** part 2: count =  5\n",
      "--------------\n",
      "*** y =  1\n",
      "*** part 1: count =  5\n",
      "*** part 2: count =  7\n",
      "--------------\n",
      "*** y =  2\n",
      "*** part 1: count =  7\n",
      "*** part 2: count =  9\n",
      "--------------\n"
     ]
    }
   ],
   "source": [
    "count = 0\n",
    "\n",
    "print(\"count = \", count)\n",
    "\n",
    "for x in range(3):\n",
    "    print(\"  \")\n",
    "    print(\"this is x:\", x)\n",
    "    for y in range(3):\n",
    "        print(\"*** y = \", y)\n",
    "        print(\"*** part 1: count = \", count)\n",
    "        count = count + x\n",
    "        print(\"*** part 2: count = \", count)\n",
    "        print(\"--------------\")"
   ]
  },
  {
   "cell_type": "code",
   "execution_count": 32,
   "metadata": {},
   "outputs": [
    {
     "name": "stdout",
     "output_type": "stream",
     "text": [
      " \n",
      "this is name1 Alison\n",
      "***name2= Yuri\n",
      "***name2= Andrew\n",
      "***name2= Mina\n",
      "***name2= Elaine\n",
      "***name2= Charles\n",
      "***name2= Alison\n",
      "****** Name matches:  Alison\n",
      " \n",
      "this is name1 Mina\n",
      "***name2= Yuri\n",
      "***name2= Andrew\n",
      "***name2= Mina\n",
      "****** Name matches:  Mina\n",
      "***name2= Elaine\n",
      "***name2= Charles\n",
      "***name2= Alison\n",
      " \n",
      "this is name1 Leticia\n",
      "***name2= Yuri\n",
      "***name2= Andrew\n",
      "***name2= Mina\n",
      "***name2= Elaine\n",
      "***name2= Charles\n",
      "***name2= Alison\n",
      " \n",
      "this is name1 Elaine\n",
      "***name2= Yuri\n",
      "***name2= Andrew\n",
      "***name2= Mina\n",
      "***name2= Elaine\n",
      "****** Name matches:  Elaine\n",
      "***name2= Charles\n",
      "***name2= Alison\n",
      " \n",
      "this is name1 Sonny\n",
      "***name2= Yuri\n",
      "***name2= Andrew\n",
      "***name2= Mina\n",
      "***name2= Elaine\n",
      "***name2= Charles\n",
      "***name2= Alison\n",
      " \n",
      "this is name1 Benito\n",
      "***name2= Yuri\n",
      "***name2= Andrew\n",
      "***name2= Mina\n",
      "***name2= Elaine\n",
      "***name2= Charles\n",
      "***name2= Alison\n"
     ]
    }
   ],
   "source": [
    "list1 = [\"Alison\", \"Mina\", \"Leticia\", \"Elaine\", \"Sonny\", \"Benito\"]\n",
    "list2 = [\"Yuri\", \"Andrew\", \"Mina\", \"Elaine\", \"Charles\", \"Alison\"]\n",
    "for name1 in list1:\n",
    "    print(\" \")\n",
    "    print(\"this is name1\",name1)\n",
    "    for name2 in list2:\n",
    "        print(\"***name2=\",name2)\n",
    "        if name1 == name2:\n",
    "            print(\"****** Name matches: \",name1)"
   ]
  },
  {
   "cell_type": "code",
   "execution_count": null,
   "metadata": {},
   "outputs": [],
   "source": []
  }
 ],
 "metadata": {
  "kernelspec": {
   "display_name": "Python 3",
   "language": "python",
   "name": "python3"
  }
 },
 "nbformat": 4,
 "nbformat_minor": 2
}
