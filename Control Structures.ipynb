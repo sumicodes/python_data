{
 "cells": [
  {
   "cell_type": "markdown",
   "metadata": {},
   "source": [
    "# Loops"
   ]
  },
  {
   "cell_type": "markdown",
   "metadata": {},
   "source": [
    "A programming control structure that executes a segment of code multiple times"
   ]
  },
  {
   "cell_type": "markdown",
   "metadata": {},
   "source": [
    "## For Loop\n",
    "\n",
    "Repeats some code a specific number of times"
   ]
  },
  {
   "cell_type": "markdown",
   "metadata": {},
   "source": [
    "## While Loop\n",
    "Runs a block of code until a certain logical expression is satisfied\n",
    "\n",
    "ex. while the screw is still loose, keep screwing it in. while there are still emaisl in your inbox, read the next one"
   ]
  },
  {
   "cell_type": "markdown",
   "metadata": {},
   "source": [
    "## For Loops with Known Ranges"
   ]
  },
  {
   "cell_type": "code",
   "execution_count": 2,
   "metadata": {},
   "outputs": [
    {
     "name": "stdout",
     "output_type": "stream",
     "text": [
      "1\n",
      "2\n",
      "3\n",
      "4\n",
      "5\n",
      "6\n",
      "7\n",
      "8\n",
      "9\n",
      "10\n"
     ]
    }
   ],
   "source": [
    "## Loop this for the numbers 1 through 10\n",
    "for i in range(1,11):\n",
    "    #Print the current number\n",
    "    print(i)"
   ]
  },
  {
   "cell_type": "markdown",
   "metadata": {},
   "source": [
    "The idented portion below the \"for\" statement"
   ]
  },
  {
   "cell_type": "code",
   "execution_count": 3,
   "metadata": {},
   "outputs": [
    {
     "name": "stdout",
     "output_type": "stream",
     "text": [
      "Before Addtition: 1\n",
      "After Addition: 2\n",
      "Before Addtition: 2\n",
      "After Addition: 3\n",
      "Before Addtition: 3\n",
      "After Addition: 4\n",
      "Before Addtition: 4\n",
      "After Addition: 5\n",
      "Before Addtition: 5\n",
      "After Addition: 6\n",
      "Before Addtition: 6\n",
      "After Addition: 7\n",
      "Before Addtition: 7\n",
      "After Addition: 8\n",
      "Before Addtition: 8\n",
      "After Addition: 9\n",
      "Before Addtition: 9\n",
      "After Addition: 10\n",
      "Before Addtition: 10\n",
      "After Addition: 11\n"
     ]
    }
   ],
   "source": [
    "for i in range(1,11):\n",
    "    print(\"Before Addtition:\",i)\n",
    "    i+=1\n",
    "    print(\"After Addition:\",i)"
   ]
  },
  {
   "cell_type": "markdown",
   "metadata": {},
   "source": [
    "## For Loops with Unknown Ranges"
   ]
  },
  {
   "cell_type": "code",
   "execution_count": null,
   "metadata": {},
   "outputs": [
    {
     "name": "stdout",
     "output_type": "stream",
     "text": [
      "Enter number #1:5\n",
      "0.5\n",
      "Enter number #2:6\n",
      "1.1\n",
      "Enter number #3:8\n",
      "1.9\n",
      "Enter number #4:9\n",
      "2.8\n",
      "Enter number #5:10\n",
      "3.8\n"
     ]
    }
   ],
   "source": [
    "#Creates sum with the value 0\n",
    "sum=0\n",
    "#Loop 10 times\n",
    "for i in range(1,11):\n",
    "    #Gets the user's number\n",
    "    nextnumber=int(input(\"Enter number #\"+str(i)+\":\"))\n",
    "    #Add the inputted number to the sum\n",
    "    #the below is same as sum=sum+nextNumber\n",
    "    sum+= nextnumber\n",
    "    #print the sum over 10\n",
    "    print(sum/10)"
   ]
  },
  {
   "cell_type": "code",
   "execution_count": null,
   "metadata": {},
   "outputs": [],
   "source": []
  }
 ],
 "metadata": {
  "kernelspec": {
   "display_name": "Python 3",
   "language": "python",
   "name": "python3"
  },
  "language_info": {
   "codemirror_mode": {
    "name": "ipython",
    "version": 3
   },
   "file_extension": ".py",
   "mimetype": "text/x-python",
   "name": "python",
   "nbconvert_exporter": "python",
   "pygments_lexer": "ipython3",
   "version": "3.6.5"
  }
 },
 "nbformat": 4,
 "nbformat_minor": 2
}
